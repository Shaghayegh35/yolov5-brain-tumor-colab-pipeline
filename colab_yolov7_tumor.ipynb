# Step 1: Mount Google Drive
from google.colab import drive
import os
import yaml
import glob
import matplotlib.pyplot as plt
 
# Mount Google Drive
drive.mount('/content/drive')
 
# Define base path for project
base_path = '/content/drive/MyDrive/yolov5_tumor_segmentation'
train_path = f"{base_path}/train"
val_path = f"{base_path}/validation"
test_path = f"{base_path}/test"
 
# Verify dataset structure
assert os.path.exists(f"{train_path}/images"), "Train images folder not found!"
assert os.path.exists(f"{train_path}/labels"), "Train labels folder not found!"
assert os.path.exists(f"{val_path}/images"), "Validation images folder not found!"
assert os.path.exists(f"{val_path}/labels"), "Validation labels folder not found!"
 
print("Dataset structure verified!")
 
# Step 2: Clone YOLOv5 Repository and Install Dependencies
!git clone https://github.com/ultralytics/yolov5.git
%cd yolov5
!pip install -r requirements.txt
!pip install wandb  # Optional: Install W&B for logging
 
# Step 3: Download Pretrained YOLOv5 Weights
pretrained_weights_path = f"{base_path}/yolov5s.pt"
!wget -O {pretrained_weights_path} https://github.com/ultralytics/yolov5/releases/download/v6.1/yolov5s.pt
 
# Step 4: Create Dataset Configuration File
data_config = {
    "train": f"{train_path}/images",
    "val": f"{val_path}/images",
    "nc": 1,  # Number of classes (e.g., "tumor")
    "names": ["tumor"],  # Class names
}
config_path = f"{base_path}/tumor.yaml"
with open(config_path, "w") as f:
    yaml.dump(data_config, f)
print(f"Dataset configuration file created at: {config_path}")
 
# Step 5: Train the YOLOv5 Model
print("Starting YOLOv5 training...")
!python train.py --weights {pretrained_weights_path} \
                 --cfg models/yolov5s.yaml \
                 --data {config_path} --epochs 100 --batch-size 16 \
                 --img 640 --project {base_path} --name yolov5_train
 
# Step 6: Locate Trained Weights
trained_weights_path = f"{base_path}/yolov5_train/weights/best.pt"
 
# Search for trained weights
if not os.path.exists(trained_weights_path):
    print("Trained weights not found at expected location. Searching YOLOv5 directories...")
    best_pt_paths = glob.glob("runs/train/**/weights/best.pt", recursive=True)
    if best_pt_paths:
        trained_weights_path = best_pt_paths[0]
        print(f"Trained weights found at: {trained_weights_path}")
    else:
        raise FileNotFoundError("Trained weights not found! Check training logs.")
else:
    print(f"Trained weights found at: {trained_weights_path}")
 
# Step 7: Evaluate the Model
print("Evaluating the model...")
!python val.py --data {config_path} --weights {trained_weights_path} \
               --img 640 --project {base_path} --name yolov5_val
 
# Step 8: Perform Inference on Test Data
print("Running inference on test data...")
!python detect.py --weights {trained_weights_path} --conf-thres 0.25 \
                  --img 640 --source {test_path}/images \
                  --project {base_path} --name yolov5_inference
 
print(f"Inference results saved to: {base_path}/yolov5_inference")
 
# Step 9: Display Output Images in Colab
inference_results_path = f"{base_path}/yolov5_inference/exp"
output_images = glob.glob(f"{inference_results_path}/*.jpg")
 
print("Displaying Inference Results:")
for img_path in output_images[:5]:  # Display first 5 images
    img = cv2.imread(img_path)
    img = cv2.cvtColor(img, cv2.COLOR_BGR2RGB)
    plt.figure(figsize=(10, 10))
    plt.imshow(img)
    plt.axis('off')
    plt.show()
