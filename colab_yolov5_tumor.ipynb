{
 "cells": [
  {
   "cell_type": "code",
   "execution_count": null,
   "metadata": {},
   "outputs": [],
   "source": [
    "# Step 1: Mount Google Drive\n",
    "from google.colab import drive\n",
    "import os\n",
    "import yaml\n",
    "import glob\n",
    "import matplotlib.pyplot as plt\n",
    "\n",
    "# Mount Google Drive\n",
    "drive.mount('/content/drive')\n",
    "\n",
    "# Define base path for project\n",
    "base_path = '/content/drive/MyDrive/yolov5_tumor_segmentation'\n",
    "train_path = f\"{base_path}/train\"\n",
    "val_path = f\"{base_path}/validation\"\n",
    "test_path = f\"{base_path}/test\"\n",
    "\n",
    "# Verify dataset structure\n",
    "assert os.path.exists(f\"{train_path}/images\"), \"Train images folder not found!\"\n",
    "assert os.path.exists(f\"{train_path}/labels\"), \"Train labels folder not found!\"\n",
    "assert os.path.exists(f\"{val_path}/images\"), \"Validation images folder not found!\"\n",
    "assert os.path.exists(f\"{val_path}/labels\"), \"Validation labels folder not found!\"\n",
    "assert os.path.exists(f\"{test_path}/images\"), \"Test images folder not found!\"\n",
    "assert os.path.exists(f\"{test_path}/labels\"), \"Test labels folder not found!\"\n",
    "\n",
    "print(\"Dataset structure verified!\")"
   ]
  },
  {
   "cell_type": "code",
   "execution_count": null,
   "metadata": {},
   "outputs": [],
   "source": [
    "# Step 2: Clone YOLOv5 Repository and Install Dependencies\n",
    "!git clone https://github.com/ultralytics/yolov5.git\n",
    "%cd yolov5\n",
    "!pip install -r requirements.txt\n",
    "!pip install wandb  # Optional: Install W&B for logging"
   ]
  },
  {
   "cell_type": "code",
   "execution_count": null,
   "metadata": {},
   "outputs": [],
   "source": [
    "# Step 3: Train YOLOv5 Model\n",
    "# Make sure you already created data.yaml in your project folder.\n",
    "!python train.py --img 640 --batch 16 --epochs 50 \\\n",
    "  --data /content/drive/MyDrive/yolov5_tumor_segmentation/data.yaml \\\n",
    "  --weights yolov5s.pt --name tumor_yolov5"
   ]
  },
  {
   "cell_type": "code",
   "execution_count": null,
   "metadata": {},
   "outputs": [],
   "source": [
    "# Step 4: Run inference on test images\n",
    "!python detect.py --weights runs/train/tumor_yolov5/weights/best.pt \\\n",
    "  --source /content/drive/MyDrive/yolov5_tumor_segmentation/test/images \\\n",
    "  --conf 0.25 --name tumor_inference"
   ]
  }
 ],
 "metadata": {
  "kernelspec": {
   "display_name": "Python 3",
   "language": "python",
   "name": "python3"
  },
  "language_info": {
   "name": "python",
   "version": "3.10"
  }
 },
 "nbformat": 4,
 "nbformat_minor": 5
}
